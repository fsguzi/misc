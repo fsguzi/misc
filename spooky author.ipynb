{
 "cells": [
  {
   "cell_type": "code",
   "execution_count": 1,
   "metadata": {
    "collapsed": false
   },
   "outputs": [],
   "source": [
    "import pandas as pd\n",
    "import tensorflow as tf\n",
    "import numpy as np"
   ]
  },
  {
   "cell_type": "code",
   "execution_count": 34,
   "metadata": {
    "collapsed": false
   },
   "outputs": [],
   "source": [
    "train = pd.read_csv(r'E:\\data\\kaggle\\spookyauthor\\train.csv',index_col=False)\n",
    "test = pd.read_csv(r'E:\\data\\kaggle\\spookyauthor\\test.csv',index_col=False)"
   ]
  },
  {
   "cell_type": "code",
   "execution_count": 35,
   "metadata": {
    "collapsed": false,
    "scrolled": true
   },
   "outputs": [],
   "source": [
    "train.text += '\\\\'\n",
    "#import unidecode\n",
    "#decoder = unidecode.unidecode\n",
    "train.text = train.text.str.lower() #apply(decoder)\n",
    "t0 = train[train.author==train.author.unique()[0]].text\n",
    "t0.reset_index(drop=True,inplace=True)"
   ]
  },
  {
   "cell_type": "code",
   "execution_count": 39,
   "metadata": {
    "collapsed": false,
    "scrolled": true
   },
   "outputs": [
    {
     "name": "stdout",
     "output_type": "stream",
     "text": [
      "[' ', '\"', \"'\", ',', '.', ':', ';', '?', '\\\\', 'a', 'b', 'c', 'd', 'e', 'f', 'g', 'h', 'i', 'j', 'k', 'l', 'm', 'n', 'o', 'p', 'q', 'r', 's', 't', 'u', 'v', 'w', 'x', 'y', 'z', 'à', 'â', 'ä', 'å', 'æ', 'ç', 'è', 'é', 'ê', 'ë', 'î', 'ï', 'ñ', 'ô', 'õ', 'ö', 'û', 'ü', 'α', 'δ', 'ν', 'ο', 'π', 'ς', 'υ', 'ἶ'] 61\n"
     ]
    }
   ],
   "source": [
    "text = train.text.sum()\n",
    "text += test.text.str.lower().sum()\n",
    "chars = sorted(list(set(text)))\n",
    "print(chars,len(chars))"
   ]
  },
  {
   "cell_type": "code",
   "execution_count": 52,
   "metadata": {
    "collapsed": false
   },
   "outputs": [
    {
     "data": {
      "text/plain": [
       "(232, 1, 61)"
      ]
     },
     "execution_count": 52,
     "metadata": {},
     "output_type": "execute_result"
    }
   ],
   "source": [
    "char_indices = dict((c, i) for i, c in enumerate(chars))\n",
    "indices_char = dict((i, c) for i, c in enumerate(chars))\n",
    "\n",
    "input_size = len(chars)\n",
    "# cut the text in semi-redundant sequences of maxlen characters\n",
    "maxlen = 20\n",
    "step = 1\n",
    "sentences = []\n",
    "next_chars = []\n",
    "def linetotensor(line):\n",
    "    l = len(line)\n",
    "    line += '\\\\'\n",
    "    sentence = line[: l-1]\n",
    "    next_char = line[1: l]\n",
    "    x = np.zeros((l, 1, input_size))\n",
    "    y = np.zeros((l,1))\n",
    "    for t,letter in enumerate(sentence):\n",
    "        x[t, 0, char_indices[letter]] = 1\n",
    "    for t,letter in enumerate(next_char):\n",
    "        y[t,0 ] = char_indices[letter]\n",
    "    return x,y"
   ]
  },
  {
   "cell_type": "code",
   "execution_count": null,
   "metadata": {
    "collapsed": false
   },
   "outputs": [
    {
     "name": "stdout",
     "output_type": "stream",
     "text": [
      "0 0 : 3.77953\n",
      "0 1000 : 2.58427\n"
     ]
    }
   ],
   "source": [
    "tf.reset_default_graph()\n",
    "\n",
    "epoch_num = 20\n",
    "sample_size = len(t0)\n",
    "batch_size = 1\n",
    "num_step = 4\n",
    "rnn_size = 256\n",
    "\n",
    "\n",
    "\n",
    "rnn = tf.contrib.rnn.BasicLSTMCell(rnn_size,activation=tf.tanh)\n",
    "\n",
    "\n",
    "#input and label\n",
    "\n",
    "X = tf.placeholder(tf.float32,shape=[None,batch_size,input_size])\n",
    "Y = tf.placeholder(tf.int32,shape=[None,batch_size])\n",
    "\n",
    "\n",
    "W = tf.Variable(tf.random_normal([rnn_size,input_size]))\n",
    "b = tf.Variable(tf.random_normal([input_size])) \n",
    "\n",
    "initial_state = rnn.zero_state(batch_size, dtype=tf.float32)\n",
    "output,state = tf.nn.dynamic_rnn(rnn,X,\n",
    "                                 initial_state=initial_state,\n",
    "                                time_major=True)\n",
    "\n",
    "logits = tf.tensordot(output,W,[[2],[0]])+b\n",
    "prob = tf.nn.softmax(logits)\n",
    "loss = tf.losses.sparse_softmax_cross_entropy(labels = Y, logits = logits)\n",
    "LOSS = tf.reduce_sum(loss)\n",
    "LOSS_ = tf.reduce_mean(loss)\n",
    "      \n",
    "\n",
    "session =tf.Session()\n",
    "session.run(tf.global_variables_initializer())\n",
    "train_step = tf.train.GradientDescentOptimizer(0.05).minimize(LOSS)\n",
    "for epoch in range(epoch_num):\n",
    "    \n",
    "    for i in range(sample_size//batch_size):\n",
    "        x,y = linetotensor(t0[i])\n",
    "        \n",
    "        #'''\n",
    "        \n",
    "        \n",
    "        a = session.run(train_step,feed_dict={X:x,Y:y})\n",
    "        current_loss = session.run(LOSS_,\n",
    "                          feed_dict={X:x,Y:y})\n",
    "        #'''\n",
    "        if i%1000==0:\n",
    "            print(epoch,i,':',current_loss)\n"
   ]
  },
  {
   "cell_type": "markdown",
   "metadata": {},
   "source": [
    "# KERAS USELESS"
   ]
  },
  {
   "cell_type": "code",
   "execution_count": 45,
   "metadata": {
    "collapsed": false,
    "scrolled": true
   },
   "outputs": [],
   "source": [
    "from keras.models import Sequential\n",
    "from keras.layers import Dense, Activation,TimeDistributed\n",
    "from keras.layers import LSTM,LSTMCell\n",
    "from keras.optimizers import RMSprop\n",
    "from keras.utils.data_utils import get_file\n",
    "\n",
    "import random\n",
    "import sys"
   ]
  },
  {
   "cell_type": "code",
   "execution_count": null,
   "metadata": {
    "collapsed": true
   },
   "outputs": [],
   "source": [
    "text = t0.sum()\n",
    "print('corpus length:', len(text))\n",
    "\n",
    "chars = sorted(list(set(text)))\n",
    "print('total chars:', len(chars))\n",
    "char_indices = dict((c, i) for i, c in enumerate(chars))\n",
    "indices_char = dict((i, c) for i, c in enumerate(chars))\n",
    "\n",
    "# cut the text in semi-redundant sequences of maxlen characters\n",
    "maxlen = 20\n",
    "step = 1\n",
    "sentences = []\n",
    "next_chars = []\n",
    "for i in range(5):\n",
    "    line = t0[i]\n",
    "    l = len(line)\n",
    "    sentence = line[: l-1]\n",
    "    next_char = line[1: l]\n",
    "    x = np.zeros((l, 1, len(chars)), dtype=np.bool)\n",
    "    y = np.zeros((l,1, len(chars)), dtype=np.bool)\n",
    "    for t,letter in enumerate(sentence):\n",
    "        x[t, 0, char_indices[letter]] = 1\n",
    "    for t,letter in enumerate(next_char):\n",
    "        y[t, 0, char_indices[letter]] = 1\n",
    "    sentences.append(x)\n",
    "    next_chars.append(y)\n",
    "print('nb sequences:', len(sentences))\n",
    "\n",
    "print('Vectorization...')\n",
    "'''\n",
    "for i  in range(len(sentences)):\n",
    "    line = sentences[i]\n",
    "    l = len(line)\n",
    "    \n",
    "    for t, char in enumerate(sentence):\n",
    "        x[i, t, char_indices[char]] = 1\n",
    "    y[i, char_indices[next_chars[i]]] = 1\n",
    "'''\n",
    "\n",
    "# build the model: a single LSTM\n",
    "print('Build model...')\n",
    "model = Sequential()\n",
    "model.add(LSTM(128, input_shape=(None, len(chars))))\n",
    "model.add((Dense(len(chars))))\n",
    "model.add(Activation('softmax'))\n",
    "\n",
    "optimizer = RMSprop(lr=0.01)\n",
    "model.compile(loss='categorical_crossentropy', optimizer=optimizer)\n",
    "\n",
    "\n",
    "def sample(preds, temperature=1.0):\n",
    "    # helper function to sample an index from a probability array\n",
    "    preds = np.asarray(preds).astype('float64')\n",
    "    preds = np.log(preds) / temperature\n",
    "    exp_preds = np.exp(preds)\n",
    "    preds = exp_preds / np.sum(exp_preds)\n",
    "    probas = np.random.multinomial(1, preds, 1)\n",
    "    return np.argmax(probas)\n",
    "\n",
    "# train the model, output generated text after each iteration\n",
    "for iteration in range(len(sentences)):\n",
    "    print()\n",
    "    print('-' * 50)\n",
    "    print('Iteration', iteration)\n",
    "    x = sentences[iteration]\n",
    "    y = next_chars[iteration]\n",
    "    model.fit(x, y,\n",
    "              batch_size=None,\n",
    "              epochs=1,verbose=0)\n",
    "\n",
    "    start_index = random.randint(0, len(text) - maxlen - 1)\n",
    "\n",
    "    for diversity in [0.2, 0.5, 1.0, 1.2]:\n",
    "        print()\n",
    "        print('----- diversity:', diversity)\n",
    "\n",
    "        generated = ''\n",
    "        sentence = text[start_index: start_index + maxlen]\n",
    "        generated += sentence\n",
    "        print('----- Generating with seed: \"' + sentence + '\"')\n",
    "        sys.stdout.write(generated)\n",
    "\n",
    "        for i in range(400):\n",
    "            x_pred = np.zeros((1, maxlen, len(chars)))\n",
    "            for t, char in enumerate(sentence):\n",
    "                x_pred[0, t, char_indices[char]] = 1.\n",
    "\n",
    "            preds = model.predict(x_pred, verbose=0)[0]\n",
    "            next_index = sample(preds, diversity)\n",
    "            next_char = indices_char[next_index]\n",
    "\n",
    "            generated += next_char\n",
    "            sentence = sentence[1:] + next_char\n",
    "\n",
    "            sys.stdout.write(next_char)\n",
    "            sys.stdout.flush()\n",
    "        print()"
   ]
  }
 ],
 "metadata": {
  "kernelspec": {
   "display_name": "Python 3",
   "language": "python",
   "name": "python3"
  },
  "language_info": {
   "codemirror_mode": {
    "name": "ipython",
    "version": 3
   },
   "file_extension": ".py",
   "mimetype": "text/x-python",
   "name": "python",
   "nbconvert_exporter": "python",
   "pygments_lexer": "ipython3",
   "version": "3.6.0"
  }
 },
 "nbformat": 4,
 "nbformat_minor": 2
}
