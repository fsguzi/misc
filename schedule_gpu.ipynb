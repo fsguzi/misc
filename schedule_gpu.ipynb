{
 "cells": [
  {
   "cell_type": "code",
   "execution_count": 1,
   "metadata": {},
   "outputs": [
    {
     "name": "stderr",
     "output_type": "stream",
     "text": [
      "/home/fsguzi/anaconda3/lib/python3.6/importlib/_bootstrap.py:219: RuntimeWarning: compiletime version 3.5 of module 'tensorflow.python.framework.fast_tensor_util' does not match runtime version 3.6\n",
      "  return f(*args, **kwds)\n"
     ]
    }
   ],
   "source": [
    "import numpy as np\n",
    "import pandas as pd\n",
    "import matplotlib.pyplot as plt\n",
    "import time\n",
    "import tensorflow as tf\n",
    "%matplotlib inline"
   ]
  },
  {
   "cell_type": "markdown",
   "metadata": {},
   "source": [
    "# read"
   ]
  },
  {
   "cell_type": "code",
   "execution_count": 2,
   "metadata": {
    "collapsed": true
   },
   "outputs": [],
   "source": [
    "meta = [('a','20180606'),('b','20180726')]\n",
    "w = meta[1]\n",
    "\n",
    "path = '/media/fsguzi/shits/tianchi/schedule/'\n",
    "interfere = pd.read_csv(path+'scheduling_preliminary_%s_app_interference_%s.csv'%w,header=None)\n",
    "app = pd.read_csv(path+'scheduling_preliminary_%s_app_resources_%s.csv'%w,header=None)\n",
    "instance = pd.read_csv(path+'scheduling_preliminary_%s_instance_deploy_%s.csv'%w,header=None)\n",
    "machine = pd.read_csv(path+'scheduling_preliminary_%s_machine_resources_%s.csv'%w,header=None)\n",
    "\n",
    "interfere.columns = ['App1','App2','k']\n",
    "app.columns = ['App','cpu','mem','disk','P','M','PM']\n",
    "instance.columns = ['Ins','App','Mac']\n",
    "machine.columns = ['Mac','cpu','mem','disk','P','M','PM']\n",
    "\n",
    "pos = {'Ins':5,'App':4,'Mac':8}\n",
    "for df in [interfere,app,instance,machine]:\n",
    "    for cname in df.columns:\n",
    "        if cname in pos or cname[:3]=='App':\n",
    "            df.loc[:,cname] = df.loc[:,cname].str[pos[cname[:3]]:].fillna(0).astype('int')\n",
    "\n",
    "app['App']-=1\n",
    "instance['App']-=1\n",
    "interfere[['App1','App2']] -=1\n",
    "instance['Mac']-=1\n",
    "\n",
    "cpu = app['cpu'].str.split('|',expand=True).astype(np.float64)\n",
    "mem = app['mem'].str.split('|',expand=True).astype(np.float64)\n",
    "app = pd.concat([app.iloc[:,[0,3,4,5,6]],cpu,mem],axis=1)\n",
    "\n",
    "\n",
    "#instance = instance.sort_values('disk',ascending=False)\n",
    "info = instance.iloc[:,1].values\n",
    "\n",
    "machine=machine.astype(float)\n",
    "#machine = machine.sort_values('disk',ascending=False)\n",
    "machine = np.concatenate([machine.iloc[:,3:].values,np.tile(machine.cpu.values,(98,1)).T,np.tile(machine.mem.values,(98,1)).T],axis=1)\n",
    "\n",
    "machine = machine[::-1]"
   ]
  },
  {
   "cell_type": "code",
   "execution_count": 3,
   "metadata": {
    "collapsed": true
   },
   "outputs": [],
   "source": [
    "app_count = pd.DataFrame(instance.groupby('App').Ins.count()).reset_index()\n",
    "interfere['n'] = interfere.App2.apply(lambda x:app_count.iloc[x,1])\n",
    "interfere.loc[(interfere.App1==interfere.App2),'k'] +=1 \n",
    "interfere = interfere[interfere.n>interfere.k]\n",
    "interfere = interfere.iloc[:,:3].sort_values(['App1','App2']).reset_index(drop=True)\n",
    "\n",
    "app_inter_map_1 = np.zeros((9338,len(interfere)),dtype=int)\n",
    "app_inter_map_2 = np.zeros((9338,len(interfere)),dtype=int)\n",
    "mac_inter_limit = np.zeros(len(interfere),dtype=int)\n",
    "\n",
    "for idx in range(len(interfere)):\n",
    "    a1,a2,k = interfere.iloc[idx,:3]    \n",
    "    app_inter_map_1[a1,idx] = True\n",
    "    app_inter_map_2[a2,idx] = 1\n",
    "    mac_inter_limit[idx] = k\n",
    "    \n",
    "def get_int_num(x):\n",
    "    out = interfere[(interfere.App1==x.App)|(interfere.App2==x.App)]\n",
    "    return out.index.tolist() if len(out)>0 else []\n",
    "in_c = app.apply(get_int_num,axis=1).tolist()\n",
    "\n",
    "app = app.iloc[:,1:].values"
   ]
  },
  {
   "cell_type": "markdown",
   "metadata": {},
   "source": [
    "# schedule"
   ]
  },
  {
   "cell_type": "code",
   "execution_count": 4,
   "metadata": {
    "collapsed": true
   },
   "outputs": [],
   "source": [
    "info2 = []\n",
    "for a in np.argsort(app[:,0])[::-1]:\n",
    "    for _ in range(app_count.Ins[a]):\n",
    "        info2.append(a)"
   ]
  },
  {
   "cell_type": "code",
   "execution_count": 4,
   "metadata": {
    "scrolled": true
   },
   "outputs": [],
   "source": [
    "tf.reset_default_graph()\n",
    "sess = tf.Session()\n",
    "\n",
    "bk = np.zeros_like(machine,dtype='float64')\n",
    "bk_1 = np.zeros((6000,len(interfere))).T\n",
    "bk_2 = np.zeros((6000,len(interfere))).T\n",
    "\n",
    "plan_a = [[] for _ in range(6000)]\n",
    "\n",
    "flag_half = 0\n",
    "flag = 0\n",
    "remaining =[]\n",
    "\n",
    "machine_cpu = machine[:,4:102]\n",
    "score = np.zeros((6000,98))\n",
    "\n",
    "\n",
    "#variables\n",
    "score_tf = tf.Variable(score,dtype='float32')\n",
    "bk_tf = tf.Variable(bk,dtype='float32')\n",
    "\n",
    "\n",
    "#constant\n",
    "machine_tf = tf.constant(machine,dtype='float32')\n",
    "machine_cpu_tf = tf.constant(machine_cpu,dtype='float32')\n",
    "\n",
    "\n",
    "#placeholders\n",
    "row_tf = tf.placeholder(shape=(200,),dtype='float32')\n",
    "\n",
    "\n",
    "would_be_tf = row_tf + bk_tf\n",
    "yn_r_tf = tf.reduce_all(would_be_tf <= machine_tf,axis=1)\n",
    "\n",
    "\n",
    "    \n",
    "bk_1_tf = tf.Variable(bk_1,dtype='uint8')\n",
    "bk_2_tf = tf.Variable(bk_2,dtype='uint8')\n",
    "mac_inter_limit_tf = tf.constant(mac_inter_limit,dtype='uint8')\n",
    "\n",
    "in_cols_tf = tf.placeholder(dtype='int32')\n",
    "inter1_tf = tf.placeholder(dtype='uint8')\n",
    "inter2_tf = tf.placeholder(dtype='uint8')\n",
    "mac_inter_limit_tf_slice = tf.placeholder(dtype='uint8')\n",
    "\n",
    "bk_1_tf_slice = tf.gather(bk_1_tf,in_cols_tf,axis=0)\n",
    "bk_2_tf_slice = tf.gather(bk_2_tf,in_cols_tf,axis=0)\n",
    "#mac_inter_limit_tf_slice = tf.gather(mac_inter_limit_tf,in_cols_tf)\n",
    "\n",
    "\n",
    "yn_i_tf_1 = tf.bitwise.bitwise_or(inter1_tf,bk_1_tf_slice)\n",
    "\n",
    "yn_i_tf_2 = inter2_tf + bk_2_tf_slice\n",
    "\n",
    "yn_i_tf = (yn_i_tf_1 * yn_i_tf_2) <= mac_inter_limit_tf_slice\n",
    "yn_i_tf = tf.reduce_all(yn_i_tf,axis=0)\n",
    "\n",
    "put_tf = tf.placeholder(dtype='int32')\n",
    "scatter_idx_tf = tf.placeholder(dtype='int32')\n",
    "new_bk_1_tf = yn_i_tf_1[:,put_tf]\n",
    "\n",
    "update_bk_tf = tf.scatter_add(bk_tf,put_tf,row_tf)\n",
    "update_bk_1_tf = tf.scatter_nd_update(bk_1_tf,scatter_idx_tf,new_bk_1_tf)\n",
    "update_bk_2_tf = tf.scatter_nd_add(bk_2_tf,scatter_idx_tf,inter2_tf[:,0])\n",
    "\n",
    "update_bk_tf_op = sess.graph.get_operation_by_name('ScatterAdd')\n",
    "update_bk_1_tf_op = sess.graph.get_operation_by_name('ScatterNdUpdate')\n",
    "update_bk_2_tf_op = sess.graph.get_operation_by_name('ScatterNdAdd')"
   ]
  },
  {
   "cell_type": "code",
   "execution_count": 14,
   "metadata": {
    "collapsed": true
   },
   "outputs": [],
   "source": [
    "sess.close()\n",
    "del sess"
   ]
  },
  {
   "cell_type": "code",
   "execution_count": null,
   "metadata": {},
   "outputs": [
    {
     "name": "stdout",
     "output_type": "stream",
     "text": [
      "0 0.041156999999998334\n",
      "5000 34.179863999999995\n"
     ]
    }
   ],
   "source": [
    "sess.run(tf.global_variables_initializer())\n",
    "start = time.clock()\n",
    "a= time.clock()\n",
    "for i,app_num in enumerate(info):\n",
    "    row = app[app_num]\n",
    "    in_cols = in_c[app_num]\n",
    "    #in_cols = [_*80 for _ in range(20)]\n",
    "    l=len(in_cols)\n",
    "    inter1 = app_inter_map_1[app_num,in_cols].reshape(l,1)\n",
    "    inter2 = app_inter_map_2[app_num,in_cols].reshape(l,1)\n",
    "    \n",
    "    mac_inter_limit_slice = mac_inter_limit[in_cols].reshape(l,1)\n",
    "    \n",
    "    yn_r, yn_i = sess.run([yn_r_tf,yn_i_tf],feed_dict={row_tf:row,\n",
    "                                          in_cols_tf:in_cols,\n",
    "                                     inter1_tf:inter1,\n",
    "                                     inter2_tf:inter2,\n",
    "                                    mac_inter_limit_tf_slice:mac_inter_limit_slice })\n",
    "        \n",
    "   \n",
    "    #locations of feasible machines\n",
    "    put = np.argwhere(yn_r&yn_i)[:,0]\n",
    "    if len(put)==0:\n",
    "        flag+=1\n",
    "    else:\n",
    "        put = put[0]\n",
    "        \n",
    "        sess.run([update_bk_tf_op],feed_dict={row_tf:row,\n",
    "                                                 put_tf:put })\n",
    "        if l > 0:\n",
    "            \n",
    "            scatter_idx = [[col,put] for col in in_cols]\n",
    "            sess.run([update_bk_1_tf_op,update_bk_2_tf_op],\n",
    "                                     feed_dict={row_tf:row,\n",
    "                                                 put_tf:put,\n",
    "                                                in_cols_tf:in_cols,\n",
    "                                                 inter1_tf:inter1,\n",
    "                                                 inter2_tf:inter2,\n",
    "                                               scatter_idx_tf:scatter_idx})\n",
    "            \n",
    "    if i%5000==0:\n",
    "        b = time.clock()\n",
    "        print(i,b-a)\n",
    "        a = time.clock()\n",
    "        \n",
    "end = time.clock()\n",
    "print(flag)\n",
    "print(end-start)\n",
    "final = sess.run(bk_tf)\n",
    "final_u = final/machine\n",
    "final_s = np.piecewise(final_u,[final_u>0,final_u>0.5],[1,lambda x:1 + 10*(np.exp(x-0.5)-1)])\n",
    "print(final_s.sum()/98)"
   ]
  },
  {
   "cell_type": "markdown",
   "metadata": {},
   "source": [
    "#  relocate"
   ]
  },
  {
   "cell_type": "code",
   "execution_count": 181,
   "metadata": {
    "collapsed": true
   },
   "outputs": [],
   "source": [
    "# list(6000) of list of app # in that indexed-machine       \n",
    "#plan_a \n",
    "\n",
    "#array(6000,9338) of how many of app# on each machine(plan)\n",
    "plan_a_c = np.zeros((6000,9338),dtype=int)\n",
    "for m_ in range(6000):\n",
    "    for a_ in plan_a[m_]:\n",
    "        plan_a_c[m_,a_] += 1\n",
    "        \n",
    "#array(6000,9338) of how many of app# on each machine(already)\n",
    "cur_a = np.zeros((6000,9338),dtype=int)\n",
    "for a_,m_ in instance.loc[:,['App','Mac']].values:\n",
    "    if m_>=0:\n",
    "        cur_a[m_,a_] +=1\n",
    "        \n",
    "#dict(-1 to 5999,machines) of dict(0-9337,app#) of list showing what ins# each machine already carring\n",
    "inventory ={m_:{} for m_ in range(-1,6000)}\n",
    "for i_,(a_,m_) in enumerate(instance.loc[:,['App','Mac']].values):\n",
    "    if inventory[m_].get(a_,[]) == []:\n",
    "        inventory[m_][a_] = [i_]\n",
    "    else:\n",
    "        inventory[m_][a_].append(i_)\n",
    "        \n",
    "#order in which planned machine alocations are being fulfilled\n",
    "order = plan_a_c.sum(axis=1).argsort()[::-1].tolist()"
   ]
  },
  {
   "cell_type": "code",
   "execution_count": 182,
   "metadata": {},
   "outputs": [
    {
     "name": "stdout",
     "output_type": "stream",
     "text": [
      "1 6000 5296\n",
      "2 704 704\n"
     ]
    }
   ],
   "source": [
    "o = 0\n",
    "\n",
    "kill = 0\n",
    "innocent = 0\n",
    "iteration=0\n",
    "\n",
    "shuchu = []\n",
    "\n",
    "while len(order)>0:\n",
    "    iteration+=1\n",
    "    success=0\n",
    "    total = len(order)\n",
    "    neworder = list(order)\n",
    "    \n",
    "    #put in empty machines\n",
    "    for i in order:\n",
    "        plan_one = plan_a[i]\n",
    "        if len(plan_one) ==0:\n",
    "            success+=1\n",
    "            neworder.remove(i)\n",
    "            continue\n",
    "        half = (i//3000)*3000\n",
    "        look = cur_a[half:(half+3000)].sum(axis=1)\n",
    "        put = np.argwhere(look==0)\n",
    "        if len(put)==0:\n",
    "\n",
    "            continue\n",
    "        else:\n",
    "            put = put[0,0]+half\n",
    "        for a_ in plan_one:\n",
    "            o+=1\n",
    "            #put in \n",
    "            cur_a[put,a_] -= 1\n",
    "\n",
    "\n",
    "            #take out\n",
    "            take = np.argwhere(cur_a[:,a_]>0)\n",
    "            if len(take) ==0:\n",
    "                innocent+=1\n",
    "                \n",
    "                take_ins = inventory[-1][a_][0]\n",
    "                del inventory[-1][a_][0]\n",
    "                shuchu.append([take_ins,put])\n",
    "                \n",
    "                continue\n",
    "            else:\n",
    "                best = np.argmin(cur_a[take[:,0]].sum(axis=1))\n",
    "                take = take[best,0]\n",
    "\n",
    "                cur_a[take,a_] -=1\n",
    "                \n",
    "                take_ins = inventory[take][a_][0]\n",
    "                del inventory[take][a_][0]\n",
    "                shuchu.append([take_ins,put])\n",
    "                \n",
    "                if cur_a[take].sum()==0:\n",
    "                    kill+=1  \n",
    "        neworder.remove(i)\n",
    "        success+=1\n",
    "    \n",
    "    \n",
    "    #match machines with only 1 instance\n",
    "    ones = np.argwhere((cur_a.sum(axis=1)==1))[:,0].tolist()\n",
    "    for i in ones:\n",
    "        order_ = np.array(neworder)\n",
    "        half = (i//3000)*3000\n",
    "\n",
    "        #find which app\n",
    "        cur_row = cur_a[i]\n",
    "        if cur_row.sum()==0:\n",
    "            \n",
    "            continue\n",
    "        only_a = np.argwhere(cur_row>0)[0,0]\n",
    "\n",
    "        #look order\n",
    "        look_order = order_[(order_<half+3000) & (order_>=half)]\n",
    "        if len(look_order) ==0:\n",
    "            continue\n",
    "        qualified_order_sub = np.argwhere(plan_a_c[look_order,only_a]>=1)[:,0]\n",
    "        if len(qualified_order_sub) == 0:\n",
    "            continue\n",
    "        look_order = look_order[qualified_order_sub]\n",
    "        put = np.argmax(plan_a_c[look_order].sum(axis=1))\n",
    "\n",
    "        fill = look_order[put]\n",
    "        \n",
    "        \n",
    "        plan_one = plan_a[fill]\n",
    "\n",
    "        for a_ in plan_one:\n",
    "            o+=1\n",
    "            #put in \n",
    "            if a_ == only_a and cur_a[i,a_] > -1:\n",
    "                cur_a[i,a_] = -1\n",
    "                \n",
    "                take_ins = inventory[i][a_][0]\n",
    "                del inventory[i][a_][0]\n",
    "                shuchu.append([take_ins,i])\n",
    "                \n",
    "                continue\n",
    "\n",
    "            else:\n",
    "                cur_a[i,a_] -= 1\n",
    "\n",
    "\n",
    "            #take out\n",
    "            take = np.argwhere(cur_a[:,a_]>0)\n",
    "            if len(take) ==0:\n",
    "                innocent+=1\n",
    "                \n",
    "                take_ins = inventory[-1][a_][0]\n",
    "                del inventory[-1][a_][0]\n",
    "                shuchu.append([take_ins,i])\n",
    "                \n",
    "                continue\n",
    "            else:\n",
    "                best = np.argmin(cur_a[take[:,0]].sum(axis=1))\n",
    "                take = take[best,0]\n",
    "                \n",
    "                cur_a[take,a_] -=1\n",
    "                \n",
    "                take_ins = inventory[take][a_][0]\n",
    "                del inventory[take][a_][0]\n",
    "                shuchu.append([take_ins,i])\n",
    "                \n",
    "                if cur_a[take].sum()==0:\n",
    "                    kill+=1  \n",
    "    \n",
    "        neworder.remove(fill)\n",
    "        success+=1\n",
    "    order = list(neworder)\n",
    "    print(iteration,total,success)"
   ]
  },
  {
   "cell_type": "code",
   "execution_count": 184,
   "metadata": {
    "collapsed": true
   },
   "outputs": [],
   "source": [
    "shuchu = np.array(shuchu)\n",
    "out = pd.DataFrame('inst_'+instance.Ins[shuchu[:,0]].astype(str)).reset_index(drop=True)\n",
    "out['m'] = 'machine_'+pd.Series((shuchu[:,1]+1).astype(str))\n",
    "out.to_csv(r'E:\\data\\kaggle\\machine\\b.csv',header=False,index=False,encoding='utf-8')"
   ]
  },
  {
   "cell_type": "markdown",
   "metadata": {},
   "source": [
    "# out"
   ]
  },
  {
   "cell_type": "code",
   "execution_count": 211,
   "metadata": {
    "collapsed": true
   },
   "outputs": [],
   "source": [
    "out = pd.DataFrame('inst_'+instance.Ins.astype(str))\n",
    "out['m'] = 'machine_'+(result.mac+1).astype(str)\n",
    "out.to_csv(r'E:\\data\\kaggle\\machine\\asd.csv',header=False,index=False)"
   ]
  },
  {
   "cell_type": "code",
   "execution_count": 114,
   "metadata": {
    "collapsed": true
   },
   "outputs": [],
   "source": [
    "a = open(path+r'\\a.csv')\n",
    "b = open(path+r'\\dsa.csv')\n",
    "w = open(path+r'\\submit_1.csv','w')\n",
    "\n",
    "a_content = a.read()\n",
    "b_content = b.read()\n",
    "w.write(a_content+'#\\n'+b_content)\n",
    "\n",
    "a.close()\n",
    "b.close()\n",
    "w.close()"
   ]
  },
  {
   "cell_type": "code",
   "execution_count": 145,
   "metadata": {},
   "outputs": [
    {
     "data": {
      "text/plain": [
       "7912.5"
      ]
     },
     "execution_count": 145,
     "metadata": {},
     "output_type": "execute_result"
    }
   ],
   "source": [
    "(9619+6206)/2"
   ]
  }
 ],
 "metadata": {
  "kernelspec": {
   "display_name": "Python 3",
   "language": "python",
   "name": "python3"
  },
  "language_info": {
   "codemirror_mode": {
    "name": "ipython",
    "version": 3
   },
   "file_extension": ".py",
   "mimetype": "text/x-python",
   "name": "python",
   "nbconvert_exporter": "python",
   "pygments_lexer": "ipython3",
   "version": "3.6.3"
  }
 },
 "nbformat": 4,
 "nbformat_minor": 2
}
