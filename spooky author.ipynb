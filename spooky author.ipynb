{
 "cells": [
  {
   "cell_type": "code",
   "execution_count": 1,
   "metadata": {
    "collapsed": false
   },
   "outputs": [],
   "source": [
    "import pandas as pd\n",
    "import tensorflow as tf\n",
    "import numpy as np\n",
    "import sys"
   ]
  },
  {
   "cell_type": "code",
   "execution_count": 2,
   "metadata": {
    "collapsed": false
   },
   "outputs": [],
   "source": [
    "train = pd.read_csv(r'E:\\data\\kaggle\\spookyauthor\\train.csv',index_col=False)\n",
    "test = pd.read_csv(r'E:\\data\\kaggle\\spookyauthor\\test.csv',index_col=False)"
   ]
  },
  {
   "cell_type": "code",
   "execution_count": 3,
   "metadata": {
    "collapsed": false,
    "scrolled": true
   },
   "outputs": [],
   "source": [
    "train.text += '\\\\'\n",
    "#import unidecode\n",
    "#decoder = unidecode.unidecode\n",
    "train.text = train.text.str.lower() #apply(decoder)\n",
    "t0 = train[train.author==train.author.unique()[0]].text\n",
    "t0.reset_index(drop=True,inplace=True)"
   ]
  },
  {
   "cell_type": "code",
   "execution_count": 4,
   "metadata": {
    "collapsed": false,
    "scrolled": true
   },
   "outputs": [
    {
     "name": "stdout",
     "output_type": "stream",
     "text": [
      "[' ', '\"', \"'\", ',', '.', ':', ';', '?', '\\\\', 'a', 'b', 'c', 'd', 'e', 'f', 'g', 'h', 'i', 'j', 'k', 'l', 'm', 'n', 'o', 'p', 'q', 'r', 's', 't', 'u', 'v', 'w', 'x', 'y', 'z', 'à', 'â', 'ä', 'å', 'æ', 'ç', 'è', 'é', 'ê', 'ë', 'î', 'ï', 'ñ', 'ô', 'õ', 'ö', 'û', 'ü', 'α', 'δ', 'ν', 'ο', 'π', 'ς', 'υ', 'ἶ'] 61\n"
     ]
    }
   ],
   "source": [
    "text = train.text.sum()\n",
    "text += test.text.str.lower().sum()\n",
    "chars = sorted(list(set(text)))\n",
    "print(chars,len(chars))"
   ]
  },
  {
   "cell_type": "code",
   "execution_count": 193,
   "metadata": {
    "collapsed": false
   },
   "outputs": [],
   "source": [
    "char_indices = dict((c, i) for i, c in enumerate(chars))\n",
    "indices_char = dict((i, c) for i, c in enumerate(chars))\n",
    "\n",
    "input_size = len(chars)\n",
    "# cut the text in semi-redundant sequences of maxlen characters\n",
    "maxlen = 20\n",
    "step = 1\n",
    "sentences = []\n",
    "next_chars = []\n",
    "def linetotensor(line):\n",
    "    l = len(line)\n",
    "    line += '\\\\'\n",
    "    sentence = line[: l-1]\n",
    "    next_char = line[1: l]\n",
    "    x = np.zeros((l, 1, input_size))\n",
    "    y = np.zeros((l,1))\n",
    "    for t,letter in enumerate(sentence):\n",
    "        x[t, 0, char_indices[letter]] = 1\n",
    "    for t,letter in enumerate(next_char):\n",
    "        y[t,0 ] = char_indices[letter]\n",
    "    return x,y\n",
    "\n",
    "def strtotensor(string):\n",
    "    string = string.lower()\n",
    "    l = len(string)\n",
    "    x = np.zeros((l, 1, input_size))\n",
    "    \n",
    "    for t,letter in enumerate(string):\n",
    "        x[t, 0, char_indices[letter]] = 1\n",
    "    return x\n",
    "\n",
    "def paddedtensor(part):\n",
    "    num_lines = len(part)\n",
    "    maxseq = part.str.len().max()\n",
    "    X = np.zeros((maxseq, num_lines, 61))\n",
    "    Y = np.zeros((maxseq,num_lines))\n",
    "    L = np.zeros(num_lines)\n",
    "    W = np.zeros_like(Y)\n",
    "    for index in range(num_lines):\n",
    "        line = part.iloc[index]\n",
    "        l = len(line)\n",
    "        line += '\\\\'\n",
    "        sentence = line[: l-1]\n",
    "        next_char = line[1: l]       \n",
    "        for t,letter in enumerate(sentence):\n",
    "            X[t, index, char_indices[letter]] = 1\n",
    "        for t,letter in enumerate(next_char):\n",
    "            Y[t,index ] = char_indices[letter]\n",
    "        L[index]  = l\n",
    "        W[:l,index] = 1\n",
    "    return X,Y,L,W"
   ]
  },
  {
   "cell_type": "code",
   "execution_count": 258,
   "metadata": {
    "collapsed": false
   },
   "outputs": [],
   "source": [
    "p_1 = t0.str.len().quantile(0.25)\n",
    "p_2 = t0.str.len().quantile(0.5)\n",
    "p_3 = t0.str.len().quantile(0.75)\n",
    "p_4 = t0.str.len().quantile(1)\n",
    "p1 = t0[t0.str.len()<p_1]\n",
    "x,y,l,w = paddedtensor(p1)"
   ]
  },
  {
   "cell_type": "code",
   "execution_count": 295,
   "metadata": {
    "collapsed": false,
    "scrolled": true
   },
   "outputs": [
    {
     "name": "stdout",
     "output_type": "stream",
     "text": [
      "0 : 7.27845761441\n",
      "1 : 6.38023029032\n",
      "2 : 5.96327048655\n",
      "3 : 5.64576972598\n",
      "4 : 5.2953803403\n",
      "5 : 5.08410805283\n",
      "6 : 4.92845530553\n",
      "7 : 4.71558717513\n",
      "8 : 4.49286794026\n",
      "9 : 4.2640318734\n",
      "10 : 4.14777912991\n",
      "11 : 3.97313517265\n",
      "12 : 3.76888425453\n",
      "13 : 3.66408457017\n",
      "14 : 3.50895573471\n",
      "15 : 3.41366353927\n",
      "16 : 3.28732846386\n",
      "17 : 3.22163134534\n",
      "18 : 3.15770459385\n",
      "19 : 3.08005664903\n",
      "20 : 3.05781433352\n",
      "21 : 2.96579327654\n",
      "22 : 2.90845905407\n",
      "23 : 2.86824890532\n",
      "24 : 2.82741552898\n",
      "25 : 2.75337656596\n",
      "26 : 2.69679171058\n",
      "27 : 2.66506312747\n",
      "28 : 2.60672624028\n",
      "29 : 2.57320182456\n",
      "30 : 2.54730570782\n",
      "31 : 2.49991087047\n",
      "32 : 2.46813237483\n",
      "33 : 2.4191834581\n",
      "34 : 2.38747236136\n",
      "35 : 2.37895497414\n",
      "36 : 2.30814097201\n",
      "37 : 2.3243494733\n",
      "38 : 2.25122676181\n",
      "39 : 2.25293703008\n",
      "40 : 2.2399855763\n",
      "41 : 2.22465292114\n",
      "42 : 2.19677269628\n",
      "43 : 2.18751731659\n",
      "44 : 2.14591810542\n",
      "45 : 2.16535360484\n",
      "46 : 2.13377696635\n",
      "47 : 2.12062654152\n",
      "48 : 2.10655375342\n",
      "49 : 2.08491378374\n"
     ]
    }
   ],
   "source": [
    "tf.reset_default_graph()\n",
    "\n",
    "epoch_num = 50\n",
    "sample_size = len(p1)\n",
    "batch_size = 1000\n",
    "rnn_size = 256\n",
    "\n",
    "\n",
    "\n",
    "rnn = tf.contrib.rnn.LSTMCell(rnn_size,activation=tf.sigmoid,\n",
    "                              use_peepholes=True)\n",
    "#rnn2 = tf.contrib.rnn.LSTMCell(rnn_size,activation=tf.sigmoid,\n",
    "                              #use_peepholes=True)\n",
    "                             \n",
    "#rnn = tf.contrib.rnn.MultiRNNCell([rnn1,rnn2])\n",
    "\n",
    "#input and label\n",
    "\n",
    "X = tf.placeholder(tf.float32,shape=[None,None,input_size])\n",
    "Y = tf.placeholder(tf.int32,shape=[None,None])\n",
    "L = tf.placeholder(tf.int32,shape=[None,])\n",
    "\n",
    "W = tf.Variable(tf.random_normal([rnn_size,input_size]))+1\n",
    "b = tf.Variable(tf.random_normal([input_size])) +1\n",
    "\n",
    "weight = tf.placeholder(tf.float32,shape=[None,None])\n",
    "#initial_state = rnn.zero_state(None, dtype=tf.float32)\n",
    "output,state = tf.nn.dynamic_rnn(rnn,X,\n",
    "                                 dtype = tf.float32,\n",
    "                                 sequence_length = L,\n",
    "                                time_major=True)\n",
    "\n",
    "logits = tf.tensordot(output,W,[[2],[0]])+b\n",
    "prob = tf.nn.softmax(logits)\n",
    "loss = tf.losses.sparse_softmax_cross_entropy(labels = Y,\n",
    "                                              logits = logits,\n",
    "                                              reduction='none')\n",
    "loss *= weight\n",
    "LOSS = tf.reduce_sum(loss)\n",
    "LOSS_ = tf.reduce_mean(loss)\n",
    "      \n",
    "\n",
    "session =tf.Session()\n",
    "session.run(tf.global_variables_initializer())\n",
    "train_step = tf.train.GradientDescentOptimizer(0.01).minimize(LOSS_)\n",
    "for epoch in range(epoch_num):\n",
    "    loss_epoch=0\n",
    "    iter_ = 0\n",
    "    permutation = np.random.permutation(sample_size)\n",
    "    x = x[:,permutation,:]\n",
    "    y = y[:,permutation]\n",
    "    l = l[permutation]\n",
    "    w = w[:,permutation]\n",
    "    for i in range(sample_size//batch_size):\n",
    "        s = i * batch_size\n",
    "        e = s + batch_size\n",
    "        x_ = x[:,s:e,:]\n",
    "        y_ = y[:,s:e]\n",
    "        l_ = l[s:e]\n",
    "        \n",
    "        w_ = w[:,s:e]\n",
    "        \n",
    "        out_loss,p,total_loss = session.run((loss,prob,LOSS),\n",
    "                          feed_dict={X:x_,Y:y_,L:l_,weight:w_})\n",
    "        a = session.run(train_step,feed_dict={X:x_,Y:y_,L:l_,weight:w_})\n",
    "        \n",
    "        \n",
    "        loss_epoch += total_loss\n",
    "    print(epoch,':',(loss_epoch/92036))\n"
   ]
  },
  {
   "cell_type": "code",
   "execution_count": 267,
   "metadata": {
    "collapsed": false
   },
   "outputs": [
    {
     "data": {
      "text/plain": [
       "array([[    0.        ,  1185.96972656,  1385.63696289, ...,\n",
       "            0.        ,   829.644104  ,  1185.96972656],\n",
       "       [ 1453.96838379,   256.22143555,    25.80932617, ...,\n",
       "         1659.28637695,  1663.75805664,   256.22143555],\n",
       "       [ 1479.2791748 ,    15.0725708 ,  1724.37866211, ...,\n",
       "         1479.2791748 ,    15.07250977,    15.0725708 ],\n",
       "       ..., \n",
       "       [    0.        ,     0.        ,     0.        , ...,\n",
       "            0.        ,     0.        ,     0.        ],\n",
       "       [    0.        ,     0.        ,     0.        , ...,\n",
       "            0.        ,     0.        ,     0.        ],\n",
       "       [    0.        ,     0.        ,     0.        , ...,\n",
       "            0.        ,     0.        ,     0.        ]], dtype=float32)"
      ]
     },
     "execution_count": 267,
     "metadata": {},
     "output_type": "execute_result"
    }
   ],
   "source": [
    "out_loss"
   ]
  },
  {
   "cell_type": "code",
   "execution_count": null,
   "metadata": {
    "collapsed": false
   },
   "outputs": [
    {
     "name": "stdout",
     "output_type": "stream",
     "text": [
      "nono n                                                                                                                                                                                                         "
     ]
    }
   ],
   "source": [
    "\n",
    "seed = 'nono '\n",
    "sys.stdout.write(seed)\n",
    "for i in range(555):\n",
    "    x_ = strtotensor(seed)\n",
    "    l_ = [len(seed)]\n",
    "    result = session.run(prob,\n",
    "                          feed_dict={X:x_,L:l_})\n",
    "    letter_ind = np.argmax(result[-1,0,:])\n",
    "    letter = indices_char[letter_ind]\n",
    "    seed +=letter\n",
    "    sys.stdout.write(letter)\n",
    "    #print(result.shape)"
   ]
  },
  {
   "cell_type": "markdown",
   "metadata": {},
   "source": [
    "# KERAS USELESS"
   ]
  },
  {
   "cell_type": "code",
   "execution_count": 45,
   "metadata": {
    "collapsed": false,
    "scrolled": true
   },
   "outputs": [],
   "source": [
    "from keras.models import Sequential\n",
    "from keras.layers import Dense, Activation,TimeDistributed\n",
    "from keras.layers import LSTM,LSTMCell\n",
    "from keras.optimizers import RMSprop\n",
    "from keras.utils.data_utils import get_file\n",
    "\n",
    "import random\n",
    "import sys"
   ]
  },
  {
   "cell_type": "code",
   "execution_count": null,
   "metadata": {
    "collapsed": true
   },
   "outputs": [],
   "source": [
    "text = t0.sum()\n",
    "print('corpus length:', len(text))\n",
    "\n",
    "chars = sorted(list(set(text)))\n",
    "print('total chars:', len(chars))\n",
    "char_indices = dict((c, i) for i, c in enumerate(chars))\n",
    "indices_char = dict((i, c) for i, c in enumerate(chars))\n",
    "\n",
    "# cut the text in semi-redundant sequences of maxlen characters\n",
    "maxlen = 20\n",
    "step = 1\n",
    "sentences = []\n",
    "next_chars = []\n",
    "for i in range(5):\n",
    "    line = t0[i]\n",
    "    l = len(line)\n",
    "    sentence = line[: l-1]\n",
    "    next_char = line[1: l]\n",
    "    x = np.zeros((l, 1, len(chars)), dtype=np.bool)\n",
    "    y = np.zeros((l,1, len(chars)), dtype=np.bool)\n",
    "    for t,letter in enumerate(sentence):\n",
    "        x[t, 0, char_indices[letter]] = 1\n",
    "    for t,letter in enumerate(next_char):\n",
    "        y[t, 0, char_indices[letter]] = 1\n",
    "    sentences.append(x)\n",
    "    next_chars.append(y)\n",
    "print('nb sequences:', len(sentences))\n",
    "\n",
    "print('Vectorization...')\n",
    "'''\n",
    "for i  in range(len(sentences)):\n",
    "    line = sentences[i]\n",
    "    l = len(line)\n",
    "    \n",
    "    for t, char in enumerate(sentence):\n",
    "        x[i, t, char_indices[char]] = 1\n",
    "    y[i, char_indices[next_chars[i]]] = 1\n",
    "'''\n",
    "\n",
    "# build the model: a single LSTM\n",
    "print('Build model...')\n",
    "model = Sequential()\n",
    "model.add(LSTM(128, input_shape=(None, len(chars))))\n",
    "model.add((Dense(len(chars))))\n",
    "model.add(Activation('softmax'))\n",
    "\n",
    "optimizer = RMSprop(lr=0.01)\n",
    "model.compile(loss='categorical_crossentropy', optimizer=optimizer)\n",
    "\n",
    "\n",
    "def sample(preds, temperature=1.0):\n",
    "    # helper function to sample an index from a probability array\n",
    "    preds = np.asarray(preds).astype('float64')\n",
    "    preds = np.log(preds) / temperature\n",
    "    exp_preds = np.exp(preds)\n",
    "    preds = exp_preds / np.sum(exp_preds)\n",
    "    probas = np.random.multinomial(1, preds, 1)\n",
    "    return np.argmax(probas)\n",
    "\n",
    "# train the model, output generated text after each iteration\n",
    "for iteration in range(len(sentences)):\n",
    "    print()\n",
    "    print('-' * 50)\n",
    "    print('Iteration', iteration)\n",
    "    x = sentences[iteration]\n",
    "    y = next_chars[iteration]\n",
    "    model.fit(x, y,\n",
    "              batch_size=None,\n",
    "              epochs=1,verbose=0)\n",
    "\n",
    "    start_index = random.randint(0, len(text) - maxlen - 1)\n",
    "\n",
    "    for diversity in [0.2, 0.5, 1.0, 1.2]:\n",
    "        print()\n",
    "        print('----- diversity:', diversity)\n",
    "\n",
    "        generated = ''\n",
    "        sentence = text[start_index: start_index + maxlen]\n",
    "        generated += sentence\n",
    "        print('----- Generating with seed: \"' + sentence + '\"')\n",
    "        sys.stdout.write(generated)\n",
    "\n",
    "        for i in range(400):\n",
    "            x_pred = np.zeros((1, maxlen, len(chars)))\n",
    "            for t, char in enumerate(sentence):\n",
    "                x_pred[0, t, char_indices[char]] = 1.\n",
    "\n",
    "            preds = model.predict(x_pred, verbose=0)[0]\n",
    "            next_index = sample(preds, diversity)\n",
    "            next_char = indices_char[next_index]\n",
    "\n",
    "            generated += next_char\n",
    "            sentence = sentence[1:] + next_char\n",
    "\n",
    "            sys.stdout.write(next_char)\n",
    "            sys.stdout.flush()\n",
    "        print()"
   ]
  }
 ],
 "metadata": {
  "kernelspec": {
   "display_name": "Python 3",
   "language": "python",
   "name": "python3"
  },
  "language_info": {
   "codemirror_mode": {
    "name": "ipython",
    "version": 3
   },
   "file_extension": ".py",
   "mimetype": "text/x-python",
   "name": "python",
   "nbconvert_exporter": "python",
   "pygments_lexer": "ipython3",
   "version": "3.6.0"
  }
 },
 "nbformat": 4,
 "nbformat_minor": 2
}
