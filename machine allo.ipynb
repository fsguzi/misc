{
 "cells": [
  {
   "cell_type": "code",
   "execution_count": 1,
   "metadata": {
    "collapsed": true
   },
   "outputs": [],
   "source": [
    "import numpy as np\n",
    "import pandas as pd"
   ]
  },
  {
   "cell_type": "code",
   "execution_count": 73,
   "metadata": {},
   "outputs": [],
   "source": [
    "interfere = pd.read_csv('/media/fsguzi/shits/tianchi/scheduling_preliminary_app_interference_20180606.csv',header=None)\n",
    "app = pd.read_csv('/media/fsguzi/shits/tianchi/scheduling_preliminary_app_resources_20180606.csv',header=None)\n",
    "instance = pd.read_csv('/media/fsguzi/shits/tianchi/scheduling_preliminary_instance_deploy_20180606.csv',header=None)\n",
    "machine = pd.read_csv('/media/fsguzi/shits/tianchi/scheduling_preliminary_machine_resources_20180606.csv',header=None)"
   ]
  },
  {
   "cell_type": "code",
   "execution_count": 74,
   "metadata": {},
   "outputs": [],
   "source": [
    "interfere.columns = ['App1','App2','k']\n",
    "app.columns = ['App','cpu','mem','disk','P','M','PM']\n",
    "instance.columns = ['Ins','App','Mac']\n",
    "del instance['Mac']\n",
    "machine.columns = ['Mac','cpu','mem','disk','P','M','PM']"
   ]
  },
  {
   "cell_type": "code",
   "execution_count": 75,
   "metadata": {
    "scrolled": true
   },
   "outputs": [],
   "source": [
    "pos = {'Ins':5,'App':4,'Mac':8}\n",
    "for df in [interfere,app,instance,machine]:\n",
    "    for cname in df.columns:\n",
    "        if cname in pos or cname[:3]=='App':\n",
    "            df.loc[:,cname] = df.loc[:,cname].str[pos[cname[:3]]:].astype('int')"
   ]
  },
  {
   "cell_type": "code",
   "execution_count": 82,
   "metadata": {},
   "outputs": [],
   "source": [
    "for cname in ['cpu','mem']:\n",
    "    app[cname] = app[cname].str.split('|')"
   ]
  },
  {
   "cell_type": "code",
   "execution_count": 88,
   "metadata": {},
   "outputs": [
    {
     "data": {
      "text/plain": [
       "list"
      ]
     },
     "execution_count": 88,
     "metadata": {},
     "output_type": "execute_result"
    }
   ],
   "source": [
    "type(app.cpu[0])"
   ]
  }
 ],
 "metadata": {
  "kernelspec": {
   "display_name": "Python 3",
   "language": "python",
   "name": "python3"
  },
  "language_info": {
   "codemirror_mode": {
    "name": "ipython",
    "version": 3
   },
   "file_extension": ".py",
   "mimetype": "text/x-python",
   "name": "python",
   "nbconvert_exporter": "python",
   "pygments_lexer": "ipython3",
   "version": "3.6.3"
  }
 },
 "nbformat": 4,
 "nbformat_minor": 2
}
