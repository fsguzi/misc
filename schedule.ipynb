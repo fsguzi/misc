{
 "cells": [
  {
   "cell_type": "code",
   "execution_count": 20,
   "metadata": {
    "collapsed": true
   },
   "outputs": [],
   "source": [
    "import numpy as np\n",
    "import pandas as pd\n",
    "import matplotlib.pyplot as plt\n",
    "%matplotlib inline"
   ]
  },
  {
   "cell_type": "code",
   "execution_count": 2,
   "metadata": {
    "collapsed": true
   },
   "outputs": [],
   "source": [
    "interfere = pd.read_csv(r'E:\\data\\kaggle\\machine\\scheduling_preliminary_app_interference_20180606.csv',header=None)\n",
    "app = pd.read_csv(r'E:\\data\\kaggle\\machine\\scheduling_preliminary_app_resources_20180606.csv',header=None)\n",
    "instance = pd.read_csv(r'E:\\data\\kaggle\\machine\\scheduling_preliminary_instance_deploy_20180606.csv',header=None)\n",
    "machine = pd.read_csv(r'E:\\data\\kaggle\\machine\\scheduling_preliminary_machine_resources_20180606.csv',header=None)"
   ]
  },
  {
   "cell_type": "code",
   "execution_count": 3,
   "metadata": {
    "collapsed": true
   },
   "outputs": [],
   "source": [
    "interfere.columns = ['App1','App2','k']\n",
    "app.columns = ['App','cpu','mem','disk','P','M','PM']\n",
    "instance.columns = ['Ins','App','Mac']\n",
    "del instance['Mac']\n",
    "machine.columns = ['Mac','cpu','mem','disk','P','M','PM']"
   ]
  },
  {
   "cell_type": "code",
   "execution_count": 4,
   "metadata": {
    "collapsed": true
   },
   "outputs": [],
   "source": [
    "pos = {'Ins':5,'App':4,'Mac':8}\n",
    "for df in [interfere,app,instance,machine]:\n",
    "    for cname in df.columns:\n",
    "        if cname in pos or cname[:3]=='App':\n",
    "            df.loc[:,cname] = df.loc[:,cname].str[pos[cname[:3]]:].astype('int')"
   ]
  },
  {
   "cell_type": "code",
   "execution_count": 5,
   "metadata": {
    "collapsed": false
   },
   "outputs": [],
   "source": [
    "cpu = app['cpu'].str.split('|',expand=True).astype(np.float64)\n",
    "mem = app['mem'].str.split('|',expand=True).astype(np.float64)\n",
    "app = pd.concat([app.iloc[:,[0,3,4,5,6]],cpu,mem],axis=1)"
   ]
  },
  {
   "cell_type": "code",
   "execution_count": 6,
   "metadata": {
    "collapsed": false
   },
   "outputs": [],
   "source": [
    "instance = pd.merge(instance,app,on='App')\n",
    "instance = instance.sort_values('disk',ascending=False)\n",
    "info = instance.iloc[:,2:].values"
   ]
  },
  {
   "cell_type": "code",
   "execution_count": 7,
   "metadata": {
    "collapsed": false
   },
   "outputs": [],
   "source": [
    "machine = machine.sort_values('disk',ascending=False)\n",
    "m = np.concatenate([machine.iloc[:,3:].values,np.tile(machine.cpu.values,(98,1)).T,np.tile(machine.mem.values,(98,1)).T],axis=1)"
   ]
  },
  {
   "cell_type": "code",
   "execution_count": null,
   "metadata": {
    "collapsed": true
   },
   "outputs": [],
   "source": []
  },
  {
   "cell_type": "code",
   "execution_count": 147,
   "metadata": {
    "collapsed": false,
    "scrolled": true
   },
   "outputs": [],
   "source": [
    "bk = np.zeros_like(m,dtype=np.float64)\n",
    "info2 = info[:,4:102]\n",
    "bk2 = bk[:,4:102]\n",
    "m2 = m[:,4:102]\n",
    "cap2 = m2[:,0]"
   ]
  },
  {
   "cell_type": "code",
   "execution_count": 123,
   "metadata": {
    "collapsed": false,
    "scrolled": true
   },
   "outputs": [
    {
     "name": "stdout",
     "output_type": "stream",
     "text": [
      "0\n",
      "1000\n",
      "2000\n",
      "3000\n",
      "4000\n",
      "5000\n",
      "6000\n",
      "7000\n",
      "8000\n",
      "9000\n",
      "10000\n",
      "11000\n",
      "12000\n",
      "13000\n",
      "14000\n",
      "15000\n",
      "16000\n",
      "17000\n",
      "18000\n",
      "19000\n",
      "20000\n",
      "21000\n",
      "22000\n",
      "23000\n",
      "24000\n",
      "25000\n",
      "26000\n",
      "27000\n",
      "28000\n",
      "29000\n",
      "30000\n",
      "31000\n",
      "32000\n",
      "33000\n",
      "34000\n",
      "35000\n",
      "36000\n",
      "37000\n",
      "38000\n",
      "39000\n",
      "40000\n",
      "41000\n",
      "42000\n",
      "43000\n",
      "44000\n",
      "45000\n",
      "46000\n",
      "47000\n",
      "48000\n",
      "49000\n",
      "50000\n",
      "51000\n",
      "52000\n",
      "53000\n",
      "54000\n",
      "55000\n",
      "56000\n",
      "57000\n",
      "58000\n",
      "59000\n",
      "60000\n",
      "61000\n",
      "62000\n",
      "63000\n",
      "64000\n",
      "65000\n",
      "66000\n",
      "67000\n",
      "68000\n",
      "[]\n"
     ]
    }
   ],
   "source": [
    "out=[]\n",
    "for i in range(len(info)):\n",
    "    \n",
    "    ins = info2[i]\n",
    "    w = (cap-(ins+bk).max(axis=1))/cap\n",
    "    #w = ((ins+bk2)<=m2).prod(axis=1)\n",
    "    \n",
    "    j = w.argmax()\n",
    "    if w[j]>=0:\n",
    "        #j = w.argmax()\n",
    "        bk2[j] += ins\n",
    "    else:\n",
    "        out.append(i)\n",
    "    if i%1000==0:\n",
    "        print(i)\n",
    "print(out)"
   ]
  },
  {
   "cell_type": "code",
   "execution_count": 128,
   "metadata": {
    "collapsed": false
   },
   "outputs": [
    {
     "data": {
      "text/plain": [
       "6000"
      ]
     },
     "execution_count": 128,
     "metadata": {},
     "output_type": "execute_result"
    }
   ],
   "source": [
    "(bk2.max(axis=1)>0).sum()"
   ]
  },
  {
   "cell_type": "code",
   "execution_count": 132,
   "metadata": {
    "collapsed": false
   },
   "outputs": [
    {
     "data": {
      "text/plain": [
       "array([1024,    7,    7,    9,   92,   92,   92,   92,   92,   92,   92,\n",
       "         92,   92,   92,   92,   92,   92,   92,   92,   92,   92,   92,\n",
       "         92,   92,   92,   92,   92,   92,   92,   92,   92,   92,   92,\n",
       "         92,   92,   92,   92,   92,   92,   92,   92,   92,   92,   92,\n",
       "         92,   92,   92,   92,   92,   92,   92,   92,   92,   92,   92,\n",
       "         92,   92,   92,   92,   92,   92,   92,   92,   92,   92,   92,\n",
       "         92,   92,   92,   92,   92,   92,   92,   92,   92,   92,   92,\n",
       "         92,   92,   92,   92,   92,   92,   92,   92,   92,   92,   92,\n",
       "         92,   92,   92,   92,   92,   92,   92,   92,   92,   92,   92,\n",
       "         92,   92,   92,  288,  288,  288,  288,  288,  288,  288,  288,\n",
       "        288,  288,  288,  288,  288,  288,  288,  288,  288,  288,  288,\n",
       "        288,  288,  288,  288,  288,  288,  288,  288,  288,  288,  288,\n",
       "        288,  288,  288,  288,  288,  288,  288,  288,  288,  288,  288,\n",
       "        288,  288,  288,  288,  288,  288,  288,  288,  288,  288,  288,\n",
       "        288,  288,  288,  288,  288,  288,  288,  288,  288,  288,  288,\n",
       "        288,  288,  288,  288,  288,  288,  288,  288,  288,  288,  288,\n",
       "        288,  288,  288,  288,  288,  288,  288,  288,  288,  288,  288,\n",
       "        288,  288,  288,  288,  288,  288,  288,  288,  288,  288,  288,\n",
       "        288,  288], dtype=int64)"
      ]
     },
     "execution_count": 132,
     "metadata": {},
     "output_type": "execute_result"
    }
   ],
   "source": [
    "m[0]"
   ]
  },
  {
   "cell_type": "code",
   "execution_count": 146,
   "metadata": {
    "collapsed": false
   },
   "outputs": [
    {
     "data": {
      "text/plain": [
       "5.359530988638915e+238"
      ]
     },
     "execution_count": 146,
     "metadata": {},
     "output_type": "execute_result"
    }
   ],
   "source": [
    "((m[0]-info)/10).prod(axis=1).max()"
   ]
  }
 ],
 "metadata": {
  "kernelspec": {
   "display_name": "Python 3",
   "language": "python",
   "name": "python3"
  },
  "language_info": {
   "codemirror_mode": {
    "name": "ipython",
    "version": 3
   },
   "file_extension": ".py",
   "mimetype": "text/x-python",
   "name": "python",
   "nbconvert_exporter": "python",
   "pygments_lexer": "ipython3",
   "version": "3.6.0"
  }
 },
 "nbformat": 4,
 "nbformat_minor": 2
}
