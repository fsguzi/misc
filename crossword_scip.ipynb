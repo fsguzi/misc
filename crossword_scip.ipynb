{
 "cells": [
  {
   "cell_type": "code",
   "execution_count": 30,
   "metadata": {
    "collapsed": true
   },
   "outputs": [],
   "source": [
    "import pyscipopt\n",
    "import numpy as np"
   ]
  },
  {
   "cell_type": "code",
   "execution_count": 31,
   "metadata": {
    "collapsed": false
   },
   "outputs": [],
   "source": [
    "model = pyscipopt.Model(\"Example\")"
   ]
  },
  {
   "cell_type": "code",
   "execution_count": 32,
   "metadata": {
    "collapsed": true
   },
   "outputs": [],
   "source": [
    "letters = list('abcdefghijklmnopqrstuvwxyz')\n",
    "letters = {x:letters.index(x) for x in letters}"
   ]
  },
  {
   "cell_type": "code",
   "execution_count": 33,
   "metadata": {
    "collapsed": false
   },
   "outputs": [],
   "source": [
    "words = ['cat','boy','matlab','xmark','anti','morgan','zoo']\n",
    "\n",
    "n_dim = 8\n",
    "num_word = len(words)\n",
    "max_len = max([len(word) for word in words])\n",
    "\n",
    "words_alpha = np.zeros((num_word,n_dim,26), dtype='int') \n",
    "for i in range(num_word):\n",
    "    word = words[i]\n",
    "    for j in range(len(word)):\n",
    "        letter = word[j]\n",
    "        letter_idx = letters[letter]\n",
    "        words_alpha[i,j,letter_idx] = 1"
   ]
  },
  {
   "cell_type": "code",
   "execution_count": 34,
   "metadata": {
    "collapsed": false
   },
   "outputs": [],
   "source": [
    "#make decision variables\n",
    "O = ['H','V']\n",
    "W = [w for w in range(num_word)]\n",
    "R = [r for r in range(n_dim)]\n",
    "C = [c for c in range(n_dim)]\n",
    "decision_variables = [[[[model.addVar(o+str(w)+str(r)+str(c), vtype=\"BINARY\") for c in C] for r in R] for w in W]for o in O]\n",
    "decision_variables = np.array(decision_variables)"
   ]
  },
  {
   "cell_type": "code",
   "execution_count": 35,
   "metadata": {
    "collapsed": false
   },
   "outputs": [],
   "source": [
    "#make contribution matrix\n",
    "\n",
    "contrib_matrix_horizontal = np.zeros((num_word,n_dim,n_dim,n_dim,n_dim,26), dtype='int')\n",
    "#horizontal\n",
    "for w in range(num_word):\n",
    "    for r_d in range(n_dim):\n",
    "        for c_d in range(n_dim):\n",
    "            accesser = contrib_matrix_horizontal[w,r_d,c_d]\n",
    "            accesser[r_d, c_d:] = words_alpha[w,:n_dim-c_d]\n",
    "\n",
    "\n",
    "contrib_matrix_vertical = np.zeros((num_word,n_dim,n_dim,n_dim,n_dim,26), dtype='int')\n",
    "#vertical\n",
    "for w in range(num_word):\n",
    "    for r_d in range(n_dim):\n",
    "        for c_d in range(n_dim):\n",
    "            accesser = contrib_matrix_vertical[w,r_d,c_d]\n",
    "            accesser[c_d, r_d:] = words_alpha[w,:n_dim-r_d]\n"
   ]
  },
  {
   "cell_type": "code",
   "execution_count": 36,
   "metadata": {
    "collapsed": false
   },
   "outputs": [],
   "source": [
    "#CONSTRAINT 1\n",
    "#everyword assigned a position\n",
    "for exp in decision_variables.sum(axis=(0,2,3)):\n",
    "    model.addCons(exp == 1)"
   ]
  },
  {
   "cell_type": "code",
   "execution_count": null,
   "metadata": {
    "collapsed": false
   },
   "outputs": [],
   "source": [
    "#CONSTRAINT 2\n",
    "#every grid assigned at most 2 letters\n",
    "\n",
    "#decision coefficient\n",
    "coeff_horizontal = contrib_matrix_horizontal * decision_variables[0,:,:,:,np.newaxis,np.newaxis,np.newaxis]\n",
    "coeff_vertical = contrib_matrix_vertical * decision_variables[1,:,:,:,np.newaxis,np.newaxis,np.newaxis]\n",
    "\n",
    "#actual constraint\n",
    "for exps in coeff_horizontal.sum(axis=(0,1,2,5)):\n",
    "    for exp in exps:\n",
    "        model.addCons(exp <= 1)\n",
    "        \n",
    "for exps in coeff_vertical.sum(axis=(0,1,2,5)):\n",
    "    for exp in exps:\n",
    "        model.addCons(exp <= 1)"
   ]
  },
  {
   "cell_type": "code",
   "execution_count": null,
   "metadata": {
    "collapsed": false
   },
   "outputs": [],
   "source": [
    "#CONSTRAINT 3\n",
    "#every grid assigned at most 1 alphabet\n",
    "\n",
    "for r in range(n_dim):\n",
    "    for c in range(n_dim):\n",
    "        for h_letter in range(26):\n",
    "            v_letter_list = [x for x in range(26)]\n",
    "            v_letter_list.remove(h_letter)\n",
    "            for v_letter in v_letter_list:\n",
    "                exp = coeff_horizontal[:,:,:,r,c,h_letter].sum() + coeff_vertical[:,:,:,r,c,v_letter].sum()\n",
    "                if contrib_matrix_horizontal[:,:,:,r,c,h_letter].sum() + contrib_matrix_vertical[:,:,:,r,c,v_letter].sum() > 0:\n",
    "                    model.addCons(exp <= 1)"
   ]
  },
  {
   "cell_type": "code",
   "execution_count": null,
   "metadata": {
    "collapsed": false
   },
   "outputs": [],
   "source": [
    "#CONSTRAINT 4\n",
    "#every word is within grid limit\n",
    "\n",
    "for w in range(num_word):\n",
    "    word_length = words_alpha[w].sum()\n",
    "    for r in range(n_dim):\n",
    "        for c_infeasible in range(num_word-word_length+1,num_word):\n",
    "            exp = decision_variables[0,w,r,c_infeasible]\n",
    "            model.addCons(exp <= 0)\n",
    "            \n",
    "for w in range(num_word):\n",
    "    word_length = words_alpha[w].sum()\n",
    "    for c in range(n_dim):\n",
    "        for r_infeasible in range(num_word-word_length+1,num_word):\n",
    "            exp = decision_variables[1,w,r_infeasible,c]\n",
    "            model.addCons(exp <= 0)\n"
   ]
  },
  {
   "cell_type": "code",
   "execution_count": null,
   "metadata": {
    "collapsed": false
   },
   "outputs": [],
   "source": [
    "model.setObjective(decision_variables.sum(), \"maximize\")"
   ]
  },
  {
   "cell_type": "code",
   "execution_count": null,
   "metadata": {
    "collapsed": true
   },
   "outputs": [],
   "source": [
    "model.hideOutput() # silent mode\n",
    "model.optimize()"
   ]
  },
  {
   "cell_type": "code",
   "execution_count": null,
   "metadata": {
    "collapsed": false
   },
   "outputs": [],
   "source": [
    "use = []\n",
    "for xxxx in decision_variables:\n",
    "    for xxx in xxxx:\n",
    "        for xx in xxx:\n",
    "            for x in xx:\n",
    "                if model.getVal(x) == 1:\n",
    "                    print(x)\n",
    "                    use.append(x.name)"
   ]
  },
  {
   "cell_type": "code",
   "execution_count": null,
   "metadata": {
    "collapsed": false
   },
   "outputs": [],
   "source": [
    "crossword = np.array([['.' for _ in range(n_dim)] for __ in range(n_dim)])\n",
    "for decision in use:\n",
    "    orient,word_idx,r,c = decision\n",
    "    word_idx,r,c = int(word_idx),int(r),int(c)\n",
    "    word = words[word_idx]\n",
    "    print(word)\n",
    "    if orient == 'H':\n",
    "        for letter in word:\n",
    "            crossword[r,c] = letter\n",
    "            c +=1\n",
    "    else:\n",
    "        for letter in word:\n",
    "            crossword[r,c] = letter\n",
    "            r +=1"
   ]
  },
  {
   "cell_type": "code",
   "execution_count": null,
   "metadata": {
    "collapsed": false
   },
   "outputs": [],
   "source": [
    "crossword"
   ]
  }
 ],
 "metadata": {
  "kernelspec": {
   "display_name": "Python 3",
   "language": "python",
   "name": "python3"
  },
  "language_info": {
   "codemirror_mode": {
    "name": "ipython",
    "version": 3
   },
   "file_extension": ".py",
   "mimetype": "text/x-python",
   "name": "python",
   "nbconvert_exporter": "python",
   "pygments_lexer": "ipython3",
   "version": "3.6.0"
  }
 },
 "nbformat": 4,
 "nbformat_minor": 2
}
