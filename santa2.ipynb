{
 "cells": [
  {
   "cell_type": "code",
   "execution_count": 1,
   "metadata": {
    "collapsed": true
   },
   "outputs": [],
   "source": [
    "import pandas as pd\n",
    "import numpy as np\n",
    "import matplotlib.pyplot as plt\n",
    "%matplotlib inline\n",
    "from sympy import sieve\n",
    "import time"
   ]
  },
  {
   "cell_type": "code",
   "execution_count": 61,
   "metadata": {
    "collapsed": false
   },
   "outputs": [],
   "source": [
    "path = 'e:/data/kaggle/santa2/'\n",
    "\n",
    "nodes = pd.read_csv(path + 'cities.csv')\n",
    "nodes = nodes.iloc[:,1:].values\n",
    "n = len(nodes)\n",
    "prime_ = sieve.primerange(0,n)\n",
    "prime = set([_ for _ in prime_])"
   ]
  },
  {
   "cell_type": "code",
   "execution_count": 109,
   "metadata": {
    "collapsed": false
   },
   "outputs": [],
   "source": [
    "def score(solution,raw=False):\n",
    "    s = nodes[solution[:-1]]\n",
    "    e = nodes[solution[1:]]\n",
    "    out = np.sqrt(((s-e)**2).sum(axis=1))\n",
    "    if raw:\n",
    "        return out\n",
    "    isten = (np.arange(n)+1)%10==0\n",
    "    notprime = ~np.isin(solution[:-1],prime)\n",
    "    isextra = (isten&notprime)*0.1\n",
    "    out += out*isextra\n",
    "    return out\n",
    "\n",
    "def distance(coor1,coor2):\n",
    "    return np.sqrt(((coor1-coor2)**2).sum(axis=-1))\n"
   ]
  },
  {
   "cell_type": "code",
   "execution_count": 170,
   "metadata": {
    "collapsed": false
   },
   "outputs": [
    {
     "data": {
      "text/plain": [
       "1519610.2239609738"
      ]
     },
     "execution_count": 170,
     "metadata": {},
     "output_type": "execute_result"
    }
   ],
   "source": [
    "solution = pd.read_csv(path+'base.csv').values[:,0]\n",
    "score(solution,True).sum()"
   ]
  },
  {
   "cell_type": "code",
   "execution_count": 167,
   "metadata": {
    "collapsed": false
   },
   "outputs": [],
   "source": [
    "solution = np.arange(n)\n",
    "solution = np.append(solution,[0])"
   ]
  },
  {
   "cell_type": "code",
   "execution_count": 54,
   "metadata": {
    "collapsed": false
   },
   "outputs": [
    {
     "data": {
      "text/plain": [
       "10.230012592801549"
      ]
     },
     "execution_count": 54,
     "metadata": {},
     "output_type": "execute_result"
    }
   ],
   "source": [
    "coor = nodes[solution]\n",
    "point1,point2 = coor[:2]\n",
    "distance(point1,point2)"
   ]
  },
  {
   "cell_type": "code",
   "execution_count": 171,
   "metadata": {
    "collapsed": false,
    "scrolled": true
   },
   "outputs": [
    {
     "name": "stdout",
     "output_type": "stream",
     "text": [
      "179.525000333786\n",
      "10.660509027968859\n"
     ]
    }
   ],
   "source": [
    "start = time.time()\n",
    "\n",
    "#every iter\n",
    "coor = nodes[solution]\n",
    "dist = score(solution,True)\n",
    "neighbor = pd.DataFrame({'d':dist}).d.rolling(2,center=True).sum().values\n",
    "\n",
    "left = 1\n",
    "\n",
    "better = 0\n",
    "\n",
    "cur = np.append([0],distance(coor[0],coor))\n",
    "nex = np.append([0],distance(coor[1],coor))\n",
    "\n",
    "for left in range(1,19000):\n",
    "#every left\n",
    "    pre_coor, left_coor, next_coor = coor[left-1:left+2]\n",
    "    adj_dist = distance(left_coor, next_coor)\n",
    "\n",
    "    ##old cost\n",
    "    left_nb = neighbor[left]\n",
    "    old_cost = neighbor[left:] + left_nb\n",
    "    old_cost[0] = 0\n",
    "    old_cost[1] -= adj_dist\n",
    "\n",
    "    ##new cost\n",
    "    pre = cur[1:]\n",
    "    \n",
    "    cur = nex[1:]\n",
    "    \n",
    "    nex = distance(next_coor,coor[left-1:])\n",
    "\n",
    "    cur_1 = cur[:-2]\n",
    "    cur_2 = cur[2:]\n",
    "    \n",
    "    new_cost = pre[1:-1] + nex[1:-1] + cur_1 + cur_2\n",
    "    new_cost[0] = 0\n",
    "    new_cost[1] += adj_dist\n",
    "    \n",
    "    save = (old_cost - new_cost).max()\n",
    "    if save>0:\n",
    "        better+=save\n",
    "        #print(left,save.max())\n",
    "print(time.time()-start)\n",
    "print(better)"
   ]
  },
  {
   "cell_type": "code",
   "execution_count": 143,
   "metadata": {
    "collapsed": false
   },
   "outputs": [
    {
     "data": {
      "text/plain": [
       "(197770,)"
      ]
     },
     "execution_count": 143,
     "metadata": {},
     "output_type": "execute_result"
    }
   ],
   "source": [
    "np.append([0],distance(coor[1],coor))[1:].shape"
   ]
  },
  {
   "cell_type": "code",
   "execution_count": 163,
   "metadata": {
    "collapsed": false,
    "scrolled": true
   },
   "outputs": [
    {
     "data": {
      "text/plain": [
       "32.833333333333336"
      ]
     },
     "execution_count": 163,
     "metadata": {},
     "output_type": "execute_result"
    }
   ],
   "source": [
    "197*10/60"
   ]
  }
 ],
 "metadata": {
  "kernelspec": {
   "display_name": "Python 3",
   "language": "python",
   "name": "python3"
  },
  "language_info": {
   "codemirror_mode": {
    "name": "ipython",
    "version": 3
   },
   "file_extension": ".py",
   "mimetype": "text/x-python",
   "name": "python",
   "nbconvert_exporter": "python",
   "pygments_lexer": "ipython3",
   "version": "3.6.0"
  }
 },
 "nbformat": 4,
 "nbformat_minor": 2
}
